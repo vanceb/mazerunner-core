{
 "cells": [
  {
   "cell_type": "markdown",
   "metadata": {},
   "source": [
    "# Advanced Sensor Board\n",
    "\n",
    "## References and Datasheets\n",
    "\n",
    "### UKMARSBot\n",
    "\n",
    "* [Github Repository](https://github.com/ukmars/ukmarsbot/)\n",
    "* [Mainboard Schematic](../datasheets/ukmarsbot-mainboard-V1.3-alpha-schematic.pdf)\n",
    "* [Basic Sensor Schematic](../datasheets/ukmarsbot-wall-sensor-basic-20190815C-schematic.pdf)\n",
    "* [Advanced Sensor_schematic](../datasheets/ukmarsbot-wall-sensor-advanced-V1.2-schematic.pdf)\n",
    "\n",
    "### Datasheets\n",
    "\n",
    "* [BPW96B IR Transistor](../datasheets/BPW96B_IR_Transistor.pdf)\n",
    "* [TEFT4300_IR_Transistor](../datasheets/TEFT4300_IR_Transistor.pdf)\n",
    "* [L-7113SF7C IR Illuminator](../datasheets/L-7113SF7C_IR_Emitter.pdf)\n",
    "* [SHF4550 IR Illuminator](../datasheets/SHF_4550_IR_Illuminator.pdf)\n",
    "* [BC337 Switching Transistor](../datasheets/BC337-40TA.pdf)\n",
    "\n",
    "## Introduction\n",
    "\n",
    "The Advanced Sensor Board has options for IR emmitters / detectors.  Depending on what is chosen different load and current limiting resistors are needed. \n",
    "\n",
    "### Symbols\n",
    "\n",
    "* $V_s$ - Supply voltage\n",
    "* $V_f$ - Forward voltage drop across the emitter when turned on\n",
    "* $V_{ce}$ - Forward voltage drop across the active device when turned on\n",
    "* $I_f$ - Forward current desired, usually max value from the datasheet\n",
    "* $r$ - Resistor value\n",
    "\n",
    "### Curent limiting resistors\n",
    "\n",
    "Current limiting resistors are used to control the maximum current through the emmitters.  The equation to calculate the resistor value is:\n",
    "\n",
    "$$ \n",
    "    r = {(V_s - V_f) \\over I_f}\n",
    "$$\n",
    "\n",
    "If we are driving the emmitter using an active device (transistor or FET) then we will also need to take into account any voltage drop across the active device ($V_{ce}$) , making the resistor calculation:\n",
    "\n",
    "$$\n",
    "    r = {(V_s - (V_f + V_{ce})) \\over I_f}\n",
    "$$   \n",
    "\n",
    "Initially when breadboarding I will deal with the steady state (continuously on) illumination.  This will give a safe upper limit to the resistor value.  We will then move on to pulsed illumination.  Pulsed illumination is able to handle larger instantaneous currents for a shorter period with non-illumination periods to allow the emitters to cool down between pulses.\n",
    "\n",
    "Datasheets will give values of $I_f$ for both continuous and pulsed operation with typical parameters, where $t_p$ is the pulse width."
   ]
  },
  {
   "cell_type": "code",
   "execution_count": 12,
   "metadata": {},
   "outputs": [],
   "source": [
    "## Emitters\n",
    "\n",
    "Vs          = 5         # Volts\n",
    "\n",
    "### L-7113SF7C\n",
    "\n",
    "l7113_Vf    = 1.4       # Volts\n",
    "l7113_If    = 20e-3     # Amps\n",
    "\n",
    "### SHF4550\n",
    "\n",
    "shf4550_Vf  = 1.5       # Volts\n",
    "shf4550_If  = 100e-3    # Amps\n",
    "\n",
    "## Detectors\n",
    "\n",
    "### BWP96B\n",
    "\n",
    "bwp96b_Ica  = 4.5e-3    # Amps nominal (Range 2.5mA - 7.5mA)\n",
    "bwp96b_Vf   = 0.3       # Volts (Max)"
   ]
  },
  {
   "cell_type": "markdown",
   "metadata": {},
   "source": [
    "## Calculate current limiting resistor values"
   ]
  },
  {
   "cell_type": "markdown",
   "metadata": {},
   "source": [
    "### L-7113"
   ]
  },
  {
   "cell_type": "markdown",
   "metadata": {},
   "source": [
    "#### No transistor switching"
   ]
  },
  {
   "cell_type": "code",
   "execution_count": 13,
   "metadata": {},
   "outputs": [
    {
     "name": "stdout",
     "output_type": "stream",
     "text": [
      "180.0 Ω\n"
     ]
    }
   ],
   "source": [
    "l7113_R = (Vs - l7113_Vf)  / l7113_If\n",
    "print(f'{l7113_R} Ω')"
   ]
  },
  {
   "cell_type": "markdown",
   "metadata": {},
   "source": [
    "#### With transistor switching"
   ]
  },
  {
   "cell_type": "code",
   "execution_count": 14,
   "metadata": {},
   "outputs": [
    {
     "name": "stdout",
     "output_type": "stream",
     "text": [
      "165.0 Ω\n"
     ]
    }
   ],
   "source": [
    "l7113_r = (Vs - (l7113_Vf + bwp96b_Vf)) / l7113_If\n",
    "print(f'{l7113_r} Ω')"
   ]
  },
  {
   "cell_type": "markdown",
   "metadata": {},
   "source": [
    "### SHF4550"
   ]
  },
  {
   "cell_type": "code",
   "execution_count": 15,
   "metadata": {},
   "outputs": [
    {
     "name": "stdout",
     "output_type": "stream",
     "text": [
      "35.0 Ω\n"
     ]
    }
   ],
   "source": [
    "shf4550_R = (Vs - shf4550_Vf) / shf4550_If\n",
    "print(f'{shf4550_R} Ω')"
   ]
  },
  {
   "cell_type": "markdown",
   "metadata": {},
   "source": [
    "## Choose limiting resistor values\n",
    "\n",
    "Resistors from the  Avanced Sensor Board Schematic:\n",
    "\n",
    "* R11   = 33 Ω\n",
    "* R1-4  = 120 Ω\n"
   ]
  },
  {
   "cell_type": "code",
   "execution_count": 16,
   "metadata": {},
   "outputs": [],
   "source": [
    "l1173_r = 150\n"
   ]
  },
  {
   "cell_type": "markdown",
   "metadata": {},
   "source": [
    "## Calculate load resistor values"
   ]
  },
  {
   "cell_type": "markdown",
   "metadata": {},
   "source": [
    "### BPW96B"
   ]
  },
  {
   "cell_type": "code",
   "execution_count": 17,
   "metadata": {},
   "outputs": [
    {
     "name": "stdout",
     "output_type": "stream",
     "text": [
      "1044.4444444444446 Ω\n"
     ]
    }
   ],
   "source": [
    "bwp96b_R = (Vs - bwp96b_Vf) / bwp96b_Ica\n",
    "print(f'{bwp96b_R} Ω')"
   ]
  },
  {
   "cell_type": "markdown",
   "metadata": {},
   "source": [
    "## Choose load resistor values"
   ]
  },
  {
   "cell_type": "markdown",
   "metadata": {},
   "source": [
    "Choosing load resistor values.  The circa 1 kΩ value assumes that the receiver is saturated with IR, but the L-1173 does not really produce sufficient IR illumination to turn the transistor on fully.  To get increased sensitivity larger load resistors are needed.  From experimentation, values of 6.2 kΩ has been chosen for R5-8.\n",
    "\n",
    "If there is a lot of ambient light, lower resistor values may be needed, somewhere in the range 1kΩ to 6.2kΩ"
   ]
  },
  {
   "cell_type": "code",
   "execution_count": 18,
   "metadata": {},
   "outputs": [],
   "source": [
    "bwp96b_R = 6200"
   ]
  }
 ],
 "metadata": {
  "kernelspec": {
   "display_name": "Python 3",
   "language": "python",
   "name": "python3"
  },
  "language_info": {
   "codemirror_mode": {
    "name": "ipython",
    "version": 3
   },
   "file_extension": ".py",
   "mimetype": "text/x-python",
   "name": "python",
   "nbconvert_exporter": "python",
   "pygments_lexer": "ipython3",
   "version": "3.12.3"
  }
 },
 "nbformat": 4,
 "nbformat_minor": 2
}
